{
 "cells": [
  {
   "cell_type": "code",
   "execution_count": 1,
   "metadata": {},
   "outputs": [
    {
     "name": "stdout",
     "output_type": "stream",
     "text": [
      "00000000: 11 22 33 44 55 FF FF FF  A5 A5 A5 A5 FF FF FF FF  .\"3DU...........\n",
      "00000010: FF FF FF FF FF FF FF FF  FF FF FF FF FF FF FF FF  ................\n",
      "00000020: 14 00 08 00 04 00 FF A3  0A 00 00 00 05 00 FF 24  ...............$\n",
      "00000030: FF FF 00 00 00 00 FF 5C  FF FF FF FF FF FF FF FF  .......\\........\n"
     ]
    }
   ],
   "source": [
    "import os\n",
    "from site import addsitedir  # nopep8\n",
    "addsitedir(os.path.join(os.path.dirname('../../src')))  # nopep8\n",
    "from znvs.encoder import Encoder\n",
    "from hexdump import hexdump\n",
    "\n",
    "\n",
    "example_data = {10: bytes.fromhex('1122334455'),\n",
    "                20: bytes.fromhex('A5A5A5A5')}\n",
    "nvs_sector_size = 64\n",
    "nvs = Encoder(nvs_sector_size).dump(example_data)\n",
    "hexdump(nvs)"
   ]
  },
  {
   "cell_type": "code",
   "execution_count": 13,
   "metadata": {},
   "outputs": [
    {
     "name": "stdout",
     "output_type": "stream",
     "text": [
      "1:\n",
      "00000000: 11 22 33 44 55 66 77 88                           .\"3DUfw.\n",
      "2:\n",
      "00000000: A5 A5 A5 A5 A5 A5 5A 5A  5A 5A 5A 5A              ......ZZZZZZ\n",
      "3:\n",
      "00000000: 00 01 02 03 04 05 06 07  08 09 0A 0B 0C 0D 0E 0F  ................\n",
      "00000010: 10 11 12 13 14 15 16 17  18 19 1A 1B 1C 1D 1E 1F  ................\n",
      "00000020: 20 21 22 23 24 25 26 27  28 29 2A 2B 2C 2D 2E 2F   !\"#$%&'()*+,-./\n",
      "00000030: 30 31 32 33 34 35 36 37  38 39 3A 3B 3C 3D 3E 3F  0123456789:;<=>?\n",
      "00000040: 40 41 42 43 44 45 46 47  48 49 4A 4B 4C 4D 4E 4F  @ABCDEFGHIJKLMNO\n",
      "00000050: 50 51 52 53 54 55 56 57  58 59 5A 5B 5C 5D 5E 5F  PQRSTUVWXYZ[\\]^_\n",
      "00000060: 60 61 62 63 64 65 66 67  68 69 6A 6B 6C 6D 6E 6F  `abcdefghijklmno\n",
      "00000070: 70 71 72 73 74 75 76 77  78 79 7A 7B 7C 7D 7E 7F  pqrstuvwxyz{|}~.\n"
     ]
    }
   ],
   "source": [
    "from znvs.decoder import Decoder\n",
    "\n",
    "with open(\"../test/golden_samples/sample_00.bin\", 'rb') as nvs_dump:\n",
    "    binary_content = nvs_dump.read()\n",
    "    content = Decoder(0x400).load(binary_content)\n",
    "    for key, value in content.items():\n",
    "        print(f\"{key}:\\n{hexdump(value, 'return')}\")\n"
   ]
  }
 ],
 "metadata": {
  "kernelspec": {
   "display_name": "Python 3",
   "language": "python",
   "name": "python3"
  },
  "language_info": {
   "codemirror_mode": {
    "name": "ipython",
    "version": 3
   },
   "file_extension": ".py",
   "mimetype": "text/x-python",
   "name": "python",
   "nbconvert_exporter": "python",
   "pygments_lexer": "ipython3",
   "version": "3.10.12"
  }
 },
 "nbformat": 4,
 "nbformat_minor": 2
}
